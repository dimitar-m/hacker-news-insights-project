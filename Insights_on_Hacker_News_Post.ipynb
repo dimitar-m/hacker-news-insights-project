{
 "cells": [
  {
   "cell_type": "markdown",
   "id": "5660755c",
   "metadata": {},
   "source": [
    "# Maximizing Engagement: Insights on Hacker News Post Timing and Topic Impact"
   ]
  },
  {
   "cell_type": "markdown",
   "id": "44e0e06c",
   "metadata": {},
   "source": [
    "## Introduction\n",
    "\n",
    "In this data science project, we aim to analyze the engagement patterns of posts on the popular technology site Hacker News. Specifically, we will compare two distinct types of posts: \"Ask HN\" and \"Show HN.\" \"Ask HN\" posts are questions posed to the Hacker News community, while \"Show HN\" posts are used to showcase projects or interesting content. Our primary goal is to determine which type of post garners more comments on average.\n",
    "\n",
    "To achieve this goal, we will analyze a dataset containing 20,000 submissions to Hacker News. We will filter the dataset to focus only on posts with titles that begin with either \"Ask HN\" or \"Show HN.\" By examining the number of comments each post receives, we will calculate and compare the average comment counts for both types of posts. Additionally, we will investigate whether the time of post creation influences the number of comments a post receives, providing insights into optimal posting times.\n",
    "\n",
    "Our analysis will reveal whether \"Ask HN\" or \"Show HN\" posts generate more community engagement in terms of comments. Furthermore, we will identify specific time frames that correlate with higher comment counts. These findings will offer valuable guidance for users looking to maximize the visibility and interaction of their posts on Hacker News."
   ]
  },
  {
   "cell_type": "code",
   "execution_count": 1,
   "id": "0e6dacad",
   "metadata": {},
   "outputs": [
    {
     "name": "stdout",
     "output_type": "stream",
     "text": [
      "The Hacker News dataset contains  20100  rows. \n",
      "\n",
      "Headers row: \n",
      " ['id', 'title', 'url', 'num_points', 'num_comments', 'author', 'created_at'] \n",
      "\n",
      "The first five rows from the dataset: \n",
      " [['12224879', 'Interactive Dynamic Video', 'http://www.interactivedynamicvideo.com/', '386', '52', 'ne0phyte', '8/4/2016 11:52'], ['10975351', 'How to Use Open Source and Shut the Fuck Up at the Same Time', 'http://hueniverse.com/2016/01/26/how-to-use-open-source-and-shut-the-fuck-up-at-the-same-time/', '39', '10', 'josep2', '1/26/2016 19:30'], ['11964716', \"Florida DJs May Face Felony for April Fools' Water Joke\", 'http://www.thewire.com/entertainment/2013/04/florida-djs-april-fools-water-joke/63798/', '2', '1', 'vezycash', '6/23/2016 22:20'], ['11919867', 'Technology ventures: From Idea to Enterprise', 'https://www.amazon.com/Technology-Ventures-Enterprise-Thomas-Byers/dp/0073523429', '3', '1', 'hswarna', '6/17/2016 0:01'], ['10301696', 'Note by Note: The Making of Steinway L1037 (2007)', 'http://www.nytimes.com/2007/11/07/movies/07stein.html?_r=0', '8', '2', 'walterbell', '9/30/2015 4:12']]\n"
     ]
    }
   ],
   "source": [
    "from csv import reader\n",
    "\n",
    "opened_file = open('hacker_news.csv') #Open the dataset\n",
    "read_file = reader(opened_file)\n",
    "hn = list(read_file)                  #Convert the dataset into a list of lists\n",
    "dataset_backup = hn                   #Create a data backup\n",
    "headers = hn[0]                       #Extract the header row into a separate list\n",
    "hn = hn[1:]                           #Omit the first row since it contains the columns' headers\n",
    "\n",
    "print('The Hacker News dataset contains ', len(hn), ' rows.', '\\n')\n",
    "print('Headers row:', '\\n', headers, '\\n')\n",
    "print('The first five rows from the dataset:', '\\n',hn[:5])"
   ]
  },
  {
   "cell_type": "markdown",
   "id": "8fde21e5",
   "metadata": {},
   "source": [
    "### Dataset Overview\n",
    "\n",
    "To provide a clear understanding of the dataset used in our analysis, here are the basic details:\n",
    "- Total Number of Rows: 20,100\n",
    "- Column Headers:\n",
    "    - id: Unique identifier for each post\n",
    "    - title: Title of the post\n",
    "    - url: URL the post links to (if applicable)\n",
    "    - num_points: Total points the post acquired (upvotes minus downvotes)\n",
    "    - num_comments: Number of comments on the post\n",
    "    - author: Username of the person who submitted the post\n",
    "    - created_at: Date and time of the post's submission\n",
    "\n",
    "This dataset provides a comprehensive view of Hacker News submissions, allowing us to analyze various aspects such as the number of comments, points received, and the timing of posts for different types of submissions (\"Ask HN,\" \"Show HN,\" and others)."
   ]
  },
  {
   "cell_type": "code",
   "execution_count": 2,
   "id": "a9b25b80",
   "metadata": {},
   "outputs": [
    {
     "name": "stdout",
     "output_type": "stream",
     "text": [
      "Number of \"Ask HN\" posts:  1744\n",
      "Number of \"Show HN\" posts:  1162\n",
      "Number of other posts:  17194\n"
     ]
    }
   ],
   "source": [
    "ask_posts = []\n",
    "show_posts = []\n",
    "other_posts = []\n",
    "\n",
    "for row in hn:\n",
    "    title = row[1]\n",
    "    title = title.lower()\n",
    "    if title.startswith('ask hn'):\n",
    "        ask_posts.append(row)\n",
    "    elif title.startswith('show hn'):\n",
    "        show_posts.append(row)\n",
    "    else:\n",
    "        other_posts.append(row)\n",
    "    \n",
    "print ('Number of \"Ask HN\" posts: ', len(ask_posts))\n",
    "print ('Number of \"Show HN\" posts: ', len(show_posts))\n",
    "print ('Number of other posts: ', len(other_posts))"
   ]
  },
  {
   "cell_type": "code",
   "execution_count": 3,
   "id": "81779aaf",
   "metadata": {},
   "outputs": [
    {
     "name": "stdout",
     "output_type": "stream",
     "text": [
      "The total numbers of comments on the \"Ask HN\" post is:  24483 \n",
      "\n",
      "The average number of comments on \"Ask HN\" posts is:  14.04 \n",
      "\n",
      "The total numbers of comments on the \"Show HN\" post is:  11988 \n",
      "\n",
      "The average number of comments on \"Show HN\" posts is:  10.32 \n",
      "\n"
     ]
    }
   ],
   "source": [
    "total_ask_comments = 0\n",
    "total_show_comments = 0\n",
    "\n",
    "for row in ask_posts:\n",
    "    comments = int(row[4])\n",
    "    total_ask_comments += comments\n",
    "avg_ask_comments = total_ask_comments / len(ask_posts)\n",
    "\n",
    "for row in show_posts:\n",
    "    comments = int(row[4])\n",
    "    total_show_comments += comments\n",
    "avg_show_comments = total_show_comments / len(show_posts)\n",
    "\n",
    "print('The total numbers of comments on the \"Ask HN\" post is: ', total_ask_comments, '\\n')\n",
    "print ('The average number of comments on \"Ask HN\" posts is: ', round(avg_ask_comments, 2), '\\n')\n",
    "\n",
    "print('The total numbers of comments on the \"Show HN\" post is: ', total_show_comments, '\\n')\n",
    "print ('The average number of comments on \"Show HN\" posts is: ', round(avg_show_comments, 2), '\\n')"
   ]
  },
  {
   "cell_type": "markdown",
   "id": "2164f274",
   "metadata": {},
   "source": [
    "In our analysis of the Hacker News dataset, we examined two distinct types of posts: \"Ask HN\" and \"Show HN.\" Here are our key findings:\n",
    "1. Our analysis showed that there are more \"Ask HN\" posts (1,744) than \"Show HN\" posts (1,162) on Hacker News.\n",
    "2. \"Ask HN\" posts, where users ask questions to the community, tend to be more engaging, receiving a total of 24,483 comments and an average of 14 comments per post.\n",
    "3. In comparison, \"Show HN\" posts, where users share projects or interesting content, received a total of 11,988 comments, averaging about 10 comments per post.\n",
    "4. This suggests that asking questions on Hacker News tends to generate more community interaction than showcasing projects."
   ]
  },
  {
   "cell_type": "code",
   "execution_count": 4,
   "id": "70107ef9",
   "metadata": {},
   "outputs": [
    {
     "name": "stdout",
     "output_type": "stream",
     "text": [
      "[['8/16/2016 9:55', 6], ['11/22/2015 13:43', 29], ['5/2/2016 10:14', 1], ['8/2/2016 14:20', 3], ['10/15/2015 16:38', 17]]\n"
     ]
    }
   ],
   "source": [
    "import datetime as dt\n",
    "\n",
    "result_list = []\n",
    "\n",
    "for row in ask_posts:\n",
    "    date_and_comments_list = []\n",
    "    date = row[6]\n",
    "    comments = int(row[4])\n",
    "    date_and_comments_list.append(date)\n",
    "    date_and_comments_list.append(comments)\n",
    "    result_list.append(date_and_comments_list)\n",
    "print(result_list[:5])"
   ]
  },
  {
   "cell_type": "code",
   "execution_count": 5,
   "id": "377f2165",
   "metadata": {},
   "outputs": [
    {
     "name": "stdout",
     "output_type": "stream",
     "text": [
      "{'09': 45, '13': 85, '10': 59, '14': 107, '16': 108, '23': 68, '12': 73, '17': 100, '15': 116, '21': 109, '20': 80, '02': 58, '18': 109, '03': 54, '05': 46, '19': 110, '01': 60, '22': 71, '08': 48, '04': 47, '00': 55, '06': 44, '07': 34, '11': 58} \n",
      "\n",
      "{'09': 251, '13': 1253, '10': 793, '14': 1416, '16': 1814, '23': 543, '12': 687, '17': 1146, '15': 4477, '21': 1745, '20': 1722, '02': 1381, '18': 1439, '03': 421, '05': 464, '19': 1188, '01': 683, '22': 479, '08': 492, '04': 337, '00': 447, '06': 397, '07': 267, '11': 641} \n",
      "\n"
     ]
    }
   ],
   "source": [
    "counts_by_hour = {}\n",
    "comments_by_hour = {}\n",
    "\n",
    "for row in result_list:\n",
    "    date = row[0]\n",
    "    comments = row[1]\n",
    "    date_dt = dt.datetime.strptime(date, \"%m/%d/%Y %H:%M\")\n",
    "    hour_str = date_dt.strftime(\"%H\")\n",
    "    \n",
    "    if hour_str not in counts_by_hour:\n",
    "        counts_by_hour[hour_str] = 1\n",
    "        comments_by_hour[hour_str] = comments\n",
    "    else:\n",
    "        counts_by_hour[hour_str] += 1\n",
    "        comments_by_hour[hour_str] += comments\n",
    "\n",
    "print(counts_by_hour, '\\n')\n",
    "print(comments_by_hour, '\\n')"
   ]
  },
  {
   "cell_type": "code",
   "execution_count": 6,
   "id": "c07fdc23",
   "metadata": {},
   "outputs": [
    {
     "name": "stdout",
     "output_type": "stream",
     "text": [
      "[['09', 5.58], ['13', 14.74], ['10', 13.44], ['14', 13.23], ['16', 16.8], ['23', 7.99], ['12', 9.41], ['17', 11.46], ['15', 38.59], ['21', 16.01], ['20', 21.52], ['02', 23.81], ['18', 13.2], ['03', 7.8], ['05', 10.09], ['19', 10.8], ['01', 11.38], ['22', 6.75], ['08', 10.25], ['04', 7.17], ['00', 8.13], ['06', 9.02], ['07', 7.85], ['11', 11.05]]\n"
     ]
    }
   ],
   "source": [
    "avg_by_hour = []\n",
    "\n",
    "for row in comments_by_hour:\n",
    "    hour = row\n",
    "    comments = int(comments_by_hour[row])\n",
    "    posts_count = counts_by_hour[row]\n",
    "    average_comments = round((comments / posts_count), 2)\n",
    "    avg_by_hour.append([hour, average_comments])\n",
    "    \n",
    "print(avg_by_hour)"
   ]
  },
  {
   "cell_type": "code",
   "execution_count": 7,
   "id": "28118ca2",
   "metadata": {},
   "outputs": [
    {
     "name": "stdout",
     "output_type": "stream",
     "text": [
      "[[5.58, '09'], [14.74, '13'], [13.44, '10'], [13.23, '14'], [16.8, '16'], [7.99, '23'], [9.41, '12'], [11.46, '17'], [38.59, '15'], [16.01, '21'], [21.52, '20'], [23.81, '02'], [13.2, '18'], [7.8, '03'], [10.09, '05'], [10.8, '19'], [11.38, '01'], [6.75, '22'], [10.25, '08'], [7.17, '04'], [8.13, '00'], [9.02, '06'], [7.85, '07'], [11.05, '11']]\n"
     ]
    }
   ],
   "source": [
    "swap_avg_by_hour = []\n",
    "\n",
    "for row in avg_by_hour:\n",
    "    swap_avg_by_hour.append([row[1], row[0]])\n",
    "print(swap_avg_by_hour)"
   ]
  },
  {
   "cell_type": "code",
   "execution_count": 8,
   "id": "5f3285a5",
   "metadata": {},
   "outputs": [
    {
     "name": "stdout",
     "output_type": "stream",
     "text": [
      "[[38.59, '15'], [23.81, '02'], [21.52, '20'], [16.8, '16'], [16.01, '21'], [14.74, '13'], [13.44, '10'], [13.23, '14'], [13.2, '18'], [11.46, '17'], [11.38, '01'], [11.05, '11'], [10.8, '19'], [10.25, '08'], [10.09, '05'], [9.41, '12'], [9.02, '06'], [8.13, '00'], [7.99, '23'], [7.85, '07'], [7.8, '03'], [7.17, '04'], [6.75, '22'], [5.58, '09']]\n"
     ]
    }
   ],
   "source": [
    "sorted_swap = sorted(swap_avg_by_hour, reverse = True)\n",
    "print(sorted_swap)"
   ]
  },
  {
   "cell_type": "code",
   "execution_count": 9,
   "id": "aa3a190b",
   "metadata": {},
   "outputs": [
    {
     "name": "stdout",
     "output_type": "stream",
     "text": [
      "Top 5 Hours for Ask Posts Comments:  \n",
      "\n",
      "15:00 :  38.59  average comments per post.\n",
      "02:00 :  23.81  average comments per post.\n",
      "20:00 :  21.52  average comments per post.\n",
      "16:00 :  16.8  average comments per post.\n",
      "21:00 :  16.01  average comments per post.\n"
     ]
    }
   ],
   "source": [
    "print(\"Top 5 Hours for Ask Posts Comments: \", '\\n')\n",
    "\n",
    "for row in sorted_swap[:5]:\n",
    "    average_comments = row[0]\n",
    "    time = row[1]\n",
    "    time_dt = dt.datetime.strptime(time, \"%H\")\n",
    "    time_str = time_dt.strftime(\"%H:%M\")\n",
    "\n",
    "    print(time_str, ': ', average_comments, ' average comments per post.')"
   ]
  },
  {
   "cell_type": "markdown",
   "id": "50f38c8f",
   "metadata": {},
   "source": [
    "In our detailed analysis of the Hacker News dataset, we investigated the optimal posting times for \"Ask HN\" posts to determine when they receive the most comments. Here are our key findings:\n",
    "\n",
    "Our analysis revealed the best times to post questions (\"Ask HN\" posts) on Hacker News for maximum comments. The top five times are:\n",
    "- 3 PM: 38.6 average comments\n",
    "- 2 AM: 23.8 average comments\n",
    "- 8 PM: 21.5 average comments\n",
    "- 4 PM: 16.8 average comments\n",
    "- 9 PM: 16 average comments\n",
    "\n",
    "Posting questions at these times, especially at 3 PM, significantly increases the likelihood of receiving more comments and engagement from the community."
   ]
  },
  {
   "cell_type": "code",
   "execution_count": 10,
   "id": "ad9c50c3",
   "metadata": {},
   "outputs": [
    {
     "name": "stdout",
     "output_type": "stream",
     "text": [
      "Number of \"Ask HN\" posts:  1744\n",
      "The total numbers of points on the \"Ask HN\" post is:  26268\n",
      "The average number of points on \"Ask HN\" posts is:  15.06 \n",
      "\n",
      "Number of \"Show HN\" posts:  1162\n",
      "The total numbers of points on the \"Show HN\" post is:  32019\n",
      "The average number of points on \"Show HN\" posts is:  27.56 \n",
      "\n"
     ]
    }
   ],
   "source": [
    "total_ask_points = 0\n",
    "total_show_points = 0\n",
    "\n",
    "for row in ask_posts:\n",
    "    post_points = int(row[3])\n",
    "    total_ask_points += post_points\n",
    "    \n",
    "for row in show_posts:\n",
    "    post_points = int(row[3])\n",
    "    total_show_points += post_points\n",
    "\n",
    "avg_ask_points = total_ask_points / len(ask_posts)\n",
    "avg_show_points = total_show_points / len(show_posts)\n",
    "\n",
    "print ('Number of \"Ask HN\" posts: ', len(ask_posts))\n",
    "print('The total numbers of points on the \"Ask HN\" post is: ', total_ask_points)\n",
    "print ('The average number of points on \"Ask HN\" posts is: ', round(avg_ask_points, 2), '\\n')\n",
    "\n",
    "print ('Number of \"Show HN\" posts: ', len(show_posts))\n",
    "print('The total numbers of points on the \"Show HN\" post is: ', total_show_points)\n",
    "print ('The average number of points on \"Show HN\" posts is: ', round(avg_show_points, 2), '\\n')"
   ]
  },
  {
   "cell_type": "markdown",
   "id": "2a82d068",
   "metadata": {},
   "source": [
    "In our extended analysis of the Hacker News dataset, we examined not only the comments but also the points (upvotes minus downvotes) received by \"Ask HN\" and \"Show HN\" posts. Here are our key findings:\n",
    "\n",
    "- Our analysis revealed differences in how \"Ask HN\" and \"Show HN\" posts are received by the Hacker News community in terms of points (upvotes minus downvotes).\n",
    "- \"Ask HN\" posts:\n",
    "    - There are 1,744 of these posts.\n",
    "    - They received a total of 26,268 points, averaging about 15 points per post.\n",
    "- \"Show HN\" posts:\n",
    "    - There are 1,162 of these posts.\n",
    "    - They received a total of 32,019 points, averaging about 28 points per post.\n",
    "- This suggests that while \"Ask HN\" posts are popular for generating comments, \"Show HN\" posts generally receive more upvotes, indicating greater community appreciation for shared projects or interesting content."
   ]
  },
  {
   "cell_type": "code",
   "execution_count": 11,
   "id": "85bbc1c2",
   "metadata": {},
   "outputs": [
    {
     "name": "stdout",
     "output_type": "stream",
     "text": [
      "[['8/16/2016 9:55', 2], ['11/22/2015 13:43', 28], ['5/2/2016 10:14', 1], ['8/2/2016 14:20', 1], ['10/15/2015 16:38', 28]] \n",
      "\n",
      "[['11/25/2015 14:03', 26], ['11/29/2015 22:46', 747], ['4/28/2016 18:05', 1], ['7/28/2016 7:11', 3], ['1/9/2016 20:45', 1]]\n"
     ]
    }
   ],
   "source": [
    "ask_posts_date_points = []\n",
    "show_posts_date_points = []\n",
    "\n",
    "for row in ask_posts:\n",
    "    date_and_points_list = []\n",
    "    date = row[6]\n",
    "    points = int(row[3])\n",
    "    date_and_points_list.append(date)\n",
    "    date_and_points_list.append(points)\n",
    "    ask_posts_date_points.append(date_and_points_list)\n",
    "\n",
    "for row in show_posts:\n",
    "    date_and_points_list = []\n",
    "    date = row[6]\n",
    "    points = int(row[3])\n",
    "    date_and_points_list.append(date)\n",
    "    date_and_points_list.append(points)\n",
    "    show_posts_date_points.append(date_and_points_list)\n",
    "    \n",
    "print(ask_posts_date_points[:5], '\\n')\n",
    "print(show_posts_date_points[:5])"
   ]
  },
  {
   "cell_type": "code",
   "execution_count": 12,
   "id": "ae5a4733",
   "metadata": {},
   "outputs": [
    {
     "name": "stdout",
     "output_type": "stream",
     "text": [
      "{'09': 45, '13': 85, '10': 59, '14': 107, '16': 108, '23': 68, '12': 73, '17': 100, '15': 116, '21': 109, '20': 80, '02': 58, '18': 109, '03': 54, '05': 46, '19': 110, '01': 60, '22': 71, '08': 48, '04': 47, '00': 55, '06': 44, '07': 34, '11': 58} \n",
      "\n",
      "{'09': 329, '13': 2062, '10': 1102, '14': 1282, '16': 2522, '23': 581, '12': 782, '17': 1941, '15': 3479, '21': 1721, '20': 1151, '02': 793, '18': 1741, '03': 374, '05': 552, '19': 1513, '01': 700, '22': 511, '08': 515, '04': 389, '00': 451, '06': 591, '07': 361, '11': 825} \n",
      "\n",
      "{'14': 86, '22': 46, '18': 61, '07': 26, '20': 60, '05': 19, '16': 93, '19': 55, '15': 78, '03': 27, '17': 93, '06': 16, '02': 30, '13': 99, '08': 34, '21': 47, '04': 26, '11': 44, '12': 61, '23': 36, '09': 30, '01': 28, '10': 36, '00': 31} \n",
      "\n",
      "{'14': 2187, '22': 1856, '18': 2215, '07': 494, '20': 1819, '05': 104, '16': 2634, '19': 1702, '15': 2228, '03': 679, '17': 2521, '06': 375, '02': 340, '13': 2438, '08': 519, '21': 866, '04': 386, '11': 1480, '12': 2543, '23': 1526, '09': 553, '01': 700, '10': 681, '00': 1173}\n"
     ]
    }
   ],
   "source": [
    "ask_posts_counts_by_hour = {}\n",
    "ask_posts_points_by_hour = {}\n",
    "\n",
    "for row in ask_posts_date_points:\n",
    "    date = row[0]\n",
    "    points = row[1]\n",
    "    date_dt = dt.datetime.strptime(date, \"%m/%d/%Y %H:%M\")\n",
    "    hour_str = date_dt.strftime(\"%H\")\n",
    "    \n",
    "    if hour_str not in ask_posts_counts_by_hour:\n",
    "        ask_posts_counts_by_hour[hour_str] = 1\n",
    "        ask_posts_points_by_hour[hour_str] = points\n",
    "    else:\n",
    "        ask_posts_counts_by_hour[hour_str] += 1\n",
    "        ask_posts_points_by_hour[hour_str] += points\n",
    "\n",
    "print(ask_posts_counts_by_hour, '\\n')\n",
    "print(ask_posts_points_by_hour, '\\n')\n",
    "\n",
    "show_posts_counts_by_hour = {}\n",
    "show_posts_points_by_hour = {}\n",
    "\n",
    "for row in show_posts_date_points:\n",
    "    date = row[0]\n",
    "    points = row[1]\n",
    "    date_dt = dt.datetime.strptime(date, \"%m/%d/%Y %H:%M\")\n",
    "    hour_str = date_dt.strftime(\"%H\")\n",
    "    \n",
    "    if hour_str not in show_posts_counts_by_hour:\n",
    "        show_posts_counts_by_hour[hour_str] = 1\n",
    "        show_posts_points_by_hour[hour_str] = points\n",
    "    else:\n",
    "        show_posts_counts_by_hour[hour_str] += 1\n",
    "        show_posts_points_by_hour[hour_str] += points\n",
    "\n",
    "print(show_posts_counts_by_hour, '\\n')\n",
    "print(show_posts_points_by_hour)"
   ]
  },
  {
   "cell_type": "code",
   "execution_count": 13,
   "id": "76060914",
   "metadata": {},
   "outputs": [
    {
     "name": "stdout",
     "output_type": "stream",
     "text": [
      "[['09', 7.31], ['13', 24.26], ['10', 18.68], ['14', 11.98], ['16', 23.35], ['23', 8.54], ['12', 10.71], ['17', 19.41], ['15', 29.99], ['21', 15.79], ['20', 14.39], ['02', 13.67], ['18', 15.97], ['03', 6.93], ['05', 12.0], ['19', 13.75], ['01', 11.67], ['22', 7.2], ['08', 10.73], ['04', 8.28], ['00', 8.2], ['06', 13.43], ['07', 10.62], ['11', 14.22]] \n",
      "\n",
      "[['14', 25.43], ['22', 40.35], ['18', 36.31], ['07', 19.0], ['20', 30.32], ['05', 5.47], ['16', 28.32], ['19', 30.95], ['15', 28.56], ['03', 25.15], ['17', 27.11], ['06', 23.44], ['02', 11.33], ['13', 24.63], ['08', 15.26], ['21', 18.43], ['04', 14.85], ['11', 33.64], ['12', 41.69], ['23', 42.39], ['09', 18.43], ['01', 25.0], ['10', 18.92], ['00', 37.84]]\n"
     ]
    }
   ],
   "source": [
    "ask_posts_avg_points_by_hour = []\n",
    "\n",
    "for row in ask_posts_points_by_hour:\n",
    "    hour = row\n",
    "    points = int(ask_posts_points_by_hour[row])\n",
    "    ask_posts_count = ask_posts_counts_by_hour[row]\n",
    "    average_points = round((points / ask_posts_count), 2)\n",
    "    ask_posts_avg_points_by_hour.append([hour, average_points])\n",
    "    \n",
    "print(ask_posts_avg_points_by_hour, '\\n')\n",
    "\n",
    "show_posts_avg_points_by_hour = []\n",
    "\n",
    "for row in show_posts_points_by_hour:\n",
    "    hour = row\n",
    "    points = int(show_posts_points_by_hour[row])\n",
    "    show_posts_count = show_posts_counts_by_hour[row]\n",
    "    average_points = round((points / show_posts_count), 2)\n",
    "    show_posts_avg_points_by_hour.append([hour, average_points])\n",
    "    \n",
    "print(show_posts_avg_points_by_hour)"
   ]
  },
  {
   "cell_type": "code",
   "execution_count": 14,
   "id": "2a7801f0",
   "metadata": {},
   "outputs": [
    {
     "name": "stdout",
     "output_type": "stream",
     "text": [
      "[[7.31, '09'], [24.26, '13'], [18.68, '10'], [11.98, '14'], [23.35, '16'], [8.54, '23'], [10.71, '12'], [19.41, '17'], [29.99, '15'], [15.79, '21'], [14.39, '20'], [13.67, '02'], [15.97, '18'], [6.93, '03'], [12.0, '05'], [13.75, '19'], [11.67, '01'], [7.2, '22'], [10.73, '08'], [8.28, '04'], [8.2, '00'], [13.43, '06'], [10.62, '07'], [14.22, '11']] \n",
      "\n",
      "[[25.43, '14'], [40.35, '22'], [36.31, '18'], [19.0, '07'], [30.32, '20'], [5.47, '05'], [28.32, '16'], [30.95, '19'], [28.56, '15'], [25.15, '03'], [27.11, '17'], [23.44, '06'], [11.33, '02'], [24.63, '13'], [15.26, '08'], [18.43, '21'], [14.85, '04'], [33.64, '11'], [41.69, '12'], [42.39, '23'], [18.43, '09'], [25.0, '01'], [18.92, '10'], [37.84, '00']] \n",
      "\n"
     ]
    }
   ],
   "source": [
    "swap_ask_posts_avg_points_by_hour = []\n",
    "\n",
    "for row in ask_posts_avg_points_by_hour:\n",
    "    swap_ask_posts_avg_points_by_hour.append([row[1], row[0]])\n",
    "    \n",
    "print(swap_ask_posts_avg_points_by_hour, '\\n')\n",
    "\n",
    "swap_show_posts_avg_points_by_hour = []\n",
    "\n",
    "for row in show_posts_avg_points_by_hour:\n",
    "    swap_show_posts_avg_points_by_hour.append([row[1], row[0]])\n",
    "    \n",
    "print(swap_show_posts_avg_points_by_hour, '\\n')"
   ]
  },
  {
   "cell_type": "code",
   "execution_count": 15,
   "id": "0597fd7e",
   "metadata": {},
   "outputs": [
    {
     "name": "stdout",
     "output_type": "stream",
     "text": [
      "[[29.99, '15'], [24.26, '13'], [23.35, '16'], [19.41, '17'], [18.68, '10'], [15.97, '18'], [15.79, '21'], [14.39, '20'], [14.22, '11'], [13.75, '19'], [13.67, '02'], [13.43, '06'], [12.0, '05'], [11.98, '14'], [11.67, '01'], [10.73, '08'], [10.71, '12'], [10.62, '07'], [8.54, '23'], [8.28, '04'], [8.2, '00'], [7.31, '09'], [7.2, '22'], [6.93, '03']] \n",
      "\n",
      "[[42.39, '23'], [41.69, '12'], [40.35, '22'], [37.84, '00'], [36.31, '18'], [33.64, '11'], [30.95, '19'], [30.32, '20'], [28.56, '15'], [28.32, '16'], [27.11, '17'], [25.43, '14'], [25.15, '03'], [25.0, '01'], [24.63, '13'], [23.44, '06'], [19.0, '07'], [18.92, '10'], [18.43, '21'], [18.43, '09'], [15.26, '08'], [14.85, '04'], [11.33, '02'], [5.47, '05']]\n"
     ]
    }
   ],
   "source": [
    "sorted_swap_ask = sorted(swap_ask_posts_avg_points_by_hour, reverse = True)\n",
    "print(sorted_swap_ask, '\\n')\n",
    "\n",
    "sorted_swap_show = sorted(swap_show_posts_avg_points_by_hour, reverse = True)\n",
    "print(sorted_swap_show)"
   ]
  },
  {
   "cell_type": "code",
   "execution_count": 16,
   "id": "05e3aff4",
   "metadata": {
    "scrolled": true
   },
   "outputs": [
    {
     "name": "stdout",
     "output_type": "stream",
     "text": [
      "Top 5 Hours for Ask Posts Points:  \n",
      "\n",
      "15:00 :  29.99  average points per post.\n",
      "13:00 :  24.26  average points per post.\n",
      "16:00 :  23.35  average points per post.\n",
      "17:00 :  19.41  average points per post.\n",
      "10:00 :  18.68  average points per post.\n",
      "\n",
      "\n",
      "Top 5 Hours for Show Posts Points:  \n",
      "\n",
      "23:00 :  42.39  average points per post.\n",
      "12:00 :  41.69  average points per post.\n",
      "22:00 :  40.35  average points per post.\n",
      "00:00 :  37.84  average points per post.\n",
      "18:00 :  36.31  average points per post.\n"
     ]
    }
   ],
   "source": [
    "print(\"Top 5 Hours for Ask Posts Points: \", '\\n')\n",
    "\n",
    "for row in sorted_swap_ask[:5]:\n",
    "    average_points = row[0]\n",
    "    time = row[1]\n",
    "    time_dt = dt.datetime.strptime(time, \"%H\")\n",
    "    time_str = time_dt.strftime(\"%H:%M\")\n",
    "\n",
    "    print(time_str, ': ', average_points, ' average points per post.')\n",
    "    \n",
    "print('\\n')\n",
    "print(\"Top 5 Hours for Show Posts Points: \", '\\n')\n",
    "\n",
    "for row in sorted_swap_show[:5]:\n",
    "    average_points = row[0]\n",
    "    time = row[1]\n",
    "    time_dt = dt.datetime.strptime(time, \"%H\")\n",
    "    time_str = time_dt.strftime(\"%H:%M\")\n",
    "\n",
    "    print(time_str, ': ', average_points, ' average points per post.')"
   ]
  },
  {
   "cell_type": "markdown",
   "id": "f07f2aa8",
   "metadata": {},
   "source": [
    "In our investigation of the Hacker News dataset, we analyzed the impact of post creation times on the number of points received by \"Ask HN\" and \"Show HN\" posts. Here are our key findings:\n",
    "\n",
    "- Our analysis shows that the time of day when a post is made can influence its popularity in terms of points received (upvotes minus downvotes).\n",
    "\n",
    "- Best times for \"Ask HN\" posts:\n",
    "    - 3 PM: 30 points on average\n",
    "    - 1 PM: 24 points on average\n",
    "    - 4 PM: 23 points on average\n",
    "    - 5 PM: 19 points on average\n",
    "    - 10 AM: 19 points on average\n",
    "\n",
    "- Best times for \"Show HN\" posts:\n",
    "    - 11 PM: 42 points on average\n",
    "    - 12 PM: 42 points on average\n",
    "    - 10 PM: 40 points on average\n",
    "    - Midnight: 38 points on average\n",
    "    - 6 PM: 36 points on average\n",
    "\n",
    "These results indicate that \"Ask HN\" posts receive the most points when submitted in the afternoon, particularly around 3 PM, while \"Show HN\" posts perform best when submitted late at night or around noon."
   ]
  },
  {
   "cell_type": "code",
   "execution_count": 17,
   "id": "3d6c776a",
   "metadata": {},
   "outputs": [
    {
     "name": "stdout",
     "output_type": "stream",
     "text": [
      "The total numbers of comments on other posts is:  462055 \n",
      "\n",
      "The average number of comments on other posts is:  26.87 \n",
      "\n"
     ]
    }
   ],
   "source": [
    "total_other_comments = 0\n",
    "\n",
    "for row in other_posts:\n",
    "    comments = int(row[4])\n",
    "    total_other_comments += comments\n",
    "\n",
    "avg_other_comments = total_other_comments / len(other_posts)\n",
    "\n",
    "print('The total numbers of comments on other posts is: ', total_other_comments, '\\n')\n",
    "print ('The average number of comments on other posts is: ', round(avg_other_comments, 2), '\\n')"
   ]
  },
  {
   "cell_type": "code",
   "execution_count": 18,
   "id": "49a827fa",
   "metadata": {},
   "outputs": [
    {
     "name": "stdout",
     "output_type": "stream",
     "text": [
      "[['8/4/2016 11:52', 52], ['1/26/2016 19:30', 10], ['6/23/2016 22:20', 1], ['6/17/2016 0:01', 1], ['9/30/2015 4:12', 2]] \n",
      "\n",
      "{'11': 660, '19': 980, '22': 758, '00': 611, '04': 454, '09': 534, '16': 1101, '18': 1084, '10': 591, '12': 789, '20': 911, '03': 407, '17': 1169, '14': 958, '13': 918, '01': 500, '23': 674, '08': 496, '02': 441, '21': 874, '15': 1040, '06': 408, '05': 388, '07': 448} \n",
      "\n",
      "{'11': 19532, '19': 26167, '22': 17635, '00': 16544, '04': 10953, '09': 14732, '16': 27959, '18': 29186, '10': 15728, '12': 23944, '20': 21080, '03': 10918, '17': 32727, '14': 30973, '13': 28363, '01': 11536, '23': 16592, '08': 13405, '02': 12254, '21': 20635, '15': 30700, '06': 8714, '05': 9768, '07': 12010} \n",
      "\n",
      "[['11', 29.59], ['19', 26.7], ['22', 23.27], ['00', 27.08], ['04', 24.13], ['09', 27.59], ['16', 25.39], ['18', 26.92], ['10', 26.61], ['12', 30.35], ['20', 23.14], ['03', 26.83], ['17', 28.0], ['14', 32.33], ['13', 30.9], ['01', 23.07], ['23', 24.62], ['08', 27.03], ['02', 27.79], ['21', 23.61], ['15', 29.52], ['06', 21.36], ['05', 25.18], ['07', 26.81]] \n",
      "\n",
      "[[29.59, '11'], [26.7, '19'], [23.27, '22'], [27.08, '00'], [24.13, '04'], [27.59, '09'], [25.39, '16'], [26.92, '18'], [26.61, '10'], [30.35, '12'], [23.14, '20'], [26.83, '03'], [28.0, '17'], [32.33, '14'], [30.9, '13'], [23.07, '01'], [24.62, '23'], [27.03, '08'], [27.79, '02'], [23.61, '21'], [29.52, '15'], [21.36, '06'], [25.18, '05'], [26.81, '07']] \n",
      "\n",
      "[[32.33, '14'], [30.9, '13'], [30.35, '12'], [29.59, '11'], [29.52, '15'], [28.0, '17'], [27.79, '02'], [27.59, '09'], [27.08, '00'], [27.03, '08'], [26.92, '18'], [26.83, '03'], [26.81, '07'], [26.7, '19'], [26.61, '10'], [25.39, '16'], [25.18, '05'], [24.62, '23'], [24.13, '04'], [23.61, '21'], [23.27, '22'], [23.14, '20'], [23.07, '01'], [21.36, '06']] \n",
      "\n",
      "Top 5 Hours for Other Posts Comments:  \n",
      "\n",
      "14:00 :  32.33  average comments per post.\n",
      "13:00 :  30.9  average comments per post.\n",
      "12:00 :  30.35  average comments per post.\n",
      "11:00 :  29.59  average comments per post.\n",
      "15:00 :  29.52  average comments per post.\n"
     ]
    }
   ],
   "source": [
    "other_posts_date_and_comments = []\n",
    "\n",
    "for row in other_posts:\n",
    "    date_and_comments_list = []\n",
    "    date = row[6]\n",
    "    comments = int(row[4])\n",
    "    date_and_comments_list.append(date)\n",
    "    date_and_comments_list.append(comments)\n",
    "    other_posts_date_and_comments.append(date_and_comments_list)\n",
    "\n",
    "print(other_posts_date_and_comments[:5], '\\n')\n",
    "\n",
    "other_posts_counts_by_hour = {}\n",
    "other_posts_comments_by_hour = {}\n",
    "\n",
    "for row in other_posts_date_and_comments:\n",
    "    date = row[0]\n",
    "    comments = row[1]\n",
    "    date_dt = dt.datetime.strptime(date, \"%m/%d/%Y %H:%M\")\n",
    "    hour_str = date_dt.strftime(\"%H\")\n",
    "    \n",
    "    if hour_str not in other_posts_counts_by_hour:\n",
    "        other_posts_counts_by_hour[hour_str] = 1\n",
    "        other_posts_comments_by_hour[hour_str] = comments\n",
    "    else:\n",
    "        other_posts_counts_by_hour[hour_str] += 1\n",
    "        other_posts_comments_by_hour[hour_str] += comments\n",
    "\n",
    "print(other_posts_counts_by_hour, '\\n')\n",
    "print(other_posts_comments_by_hour, '\\n')\n",
    "\n",
    "other_posts_comments_avg_by_hour = []\n",
    "\n",
    "for row in other_posts_comments_by_hour:\n",
    "    hour = row\n",
    "    comments = int(other_posts_comments_by_hour[row])\n",
    "    posts_count = other_posts_counts_by_hour[row]\n",
    "    average_comments = round((comments / posts_count), 2)\n",
    "    other_posts_comments_avg_by_hour.append([hour, average_comments])\n",
    "    \n",
    "print(other_posts_comments_avg_by_hour, '\\n')\n",
    "\n",
    "swap_other_posts_comments_avg_by_hour = []\n",
    "\n",
    "for row in other_posts_comments_avg_by_hour:\n",
    "    swap_other_posts_comments_avg_by_hour.append([row[1], row[0]])\n",
    "print(swap_other_posts_comments_avg_by_hour, '\\n')\n",
    "\n",
    "sorted_swap_other_posts_comments_avg_by_hour = sorted(swap_other_posts_comments_avg_by_hour, reverse = True)\n",
    "print(sorted_swap_other_posts_comments_avg_by_hour, '\\n')\n",
    "\n",
    "print(\"Top 5 Hours for Other Posts Comments: \", '\\n')\n",
    "\n",
    "for row in sorted_swap_other_posts_comments_avg_by_hour[:5]:\n",
    "    average_comments = row[0]\n",
    "    time = row[1]\n",
    "    time_dt = dt.datetime.strptime(time, \"%H\")\n",
    "    time_str = time_dt.strftime(\"%H:%M\")\n",
    "\n",
    "    print(time_str, ': ', average_comments, ' average comments per post.')"
   ]
  },
  {
   "cell_type": "code",
   "execution_count": 19,
   "id": "d9f5b593",
   "metadata": {},
   "outputs": [
    {
     "name": "stdout",
     "output_type": "stream",
     "text": [
      "Number of other posts:  17194\n",
      "The total numbers of points on other post is:  952664\n",
      "The average number of points on other posts is:  55.41 \n",
      "\n",
      "[['8/4/2016 11:52', 386], ['1/26/2016 19:30', 39], ['6/23/2016 22:20', 2], ['6/17/2016 0:01', 3], ['9/30/2015 4:12', 8]] \n",
      "\n",
      "{'11': 660, '19': 980, '22': 758, '00': 611, '04': 454, '09': 534, '16': 1101, '18': 1084, '10': 591, '12': 789, '20': 911, '03': 407, '17': 1169, '14': 958, '13': 918, '01': 500, '23': 674, '08': 496, '02': 441, '21': 874, '15': 1040, '06': 408, '05': 388, '07': 448} \n",
      "\n",
      "{'11': 37995, '19': 58811, '22': 38079, '00': 35718, '04': 22549, '09': 28802, '16': 59655, '18': 58459, '10': 35746, '12': 45287, '20': 41218, '03': 23167, '17': 67777, '14': 59191, '13': 57398, '01': 25303, '23': 35068, '08': 26830, '02': 25786, '21': 43149, '15': 62964, '06': 18864, '05': 19387, '07': 25461} \n",
      "\n",
      "[['11', 57.57], ['19', 60.01], ['22', 50.24], ['00', 58.46], ['04', 49.67], ['09', 53.94], ['16', 54.18], ['18', 53.93], ['10', 60.48], ['12', 57.4], ['20', 45.24], ['03', 56.92], ['17', 57.98], ['14', 61.79], ['13', 62.53], ['01', 50.61], ['23', 52.03], ['08', 54.09], ['02', 58.47], ['21', 49.37], ['15', 60.54], ['06', 46.24], ['05', 49.97], ['07', 56.83]] \n",
      "\n",
      "[[57.57, '11'], [60.01, '19'], [50.24, '22'], [58.46, '00'], [49.67, '04'], [53.94, '09'], [54.18, '16'], [53.93, '18'], [60.48, '10'], [57.4, '12'], [45.24, '20'], [56.92, '03'], [57.98, '17'], [61.79, '14'], [62.53, '13'], [50.61, '01'], [52.03, '23'], [54.09, '08'], [58.47, '02'], [49.37, '21'], [60.54, '15'], [46.24, '06'], [49.97, '05'], [56.83, '07']] \n",
      "\n",
      "[[62.53, '13'], [61.79, '14'], [60.54, '15'], [60.48, '10'], [60.01, '19'], [58.47, '02'], [58.46, '00'], [57.98, '17'], [57.57, '11'], [57.4, '12'], [56.92, '03'], [56.83, '07'], [54.18, '16'], [54.09, '08'], [53.94, '09'], [53.93, '18'], [52.03, '23'], [50.61, '01'], [50.24, '22'], [49.97, '05'], [49.67, '04'], [49.37, '21'], [46.24, '06'], [45.24, '20']] \n",
      "\n",
      "Top 5 Hours for Other Posts Points:  \n",
      "\n",
      "13:00 :  62.53  average points per post.\n",
      "14:00 :  61.79  average points per post.\n",
      "15:00 :  60.54  average points per post.\n",
      "10:00 :  60.48  average points per post.\n",
      "19:00 :  60.01  average points per post.\n"
     ]
    }
   ],
   "source": [
    "total_other_points = 0\n",
    "\n",
    "for row in other_posts:\n",
    "    post_points = int(row[3])\n",
    "    total_other_points += post_points\n",
    "    \n",
    "avg_other_points = total_other_points / len(other_posts)\n",
    "\n",
    "print ('Number of other posts: ', len(other_posts))\n",
    "print('The total numbers of points on other post is: ', total_other_points)\n",
    "print ('The average number of points on other posts is: ', round(avg_other_points, 2), '\\n')\n",
    "\n",
    "other_posts_date_points = []\n",
    "\n",
    "for row in other_posts:\n",
    "    date_and_points_list = []\n",
    "    date = row[6]\n",
    "    points = int(row[3])\n",
    "    date_and_points_list.append(date)\n",
    "    date_and_points_list.append(points)\n",
    "    other_posts_date_points.append(date_and_points_list)\n",
    "    \n",
    "print(other_posts_date_points[:5], '\\n')\n",
    "\n",
    "other_posts_counts_by_hour = {}\n",
    "other_posts_points_by_hour = {}\n",
    "\n",
    "for row in other_posts_date_points:\n",
    "    date = row[0]\n",
    "    points = row[1]\n",
    "    date_dt = dt.datetime.strptime(date, \"%m/%d/%Y %H:%M\")\n",
    "    hour_str = date_dt.strftime(\"%H\")\n",
    "    \n",
    "    if hour_str not in other_posts_counts_by_hour:\n",
    "        other_posts_counts_by_hour[hour_str] = 1\n",
    "        other_posts_points_by_hour[hour_str] = points\n",
    "    else:\n",
    "        other_posts_counts_by_hour[hour_str] += 1\n",
    "        other_posts_points_by_hour[hour_str] += points\n",
    "\n",
    "print(other_posts_counts_by_hour, '\\n')\n",
    "print(other_posts_points_by_hour, '\\n')\n",
    "\n",
    "other_posts_avg_points_by_hour = []\n",
    "\n",
    "for row in other_posts_points_by_hour:\n",
    "    hour = row\n",
    "    points = int(other_posts_points_by_hour[row])\n",
    "    other_posts_count = other_posts_counts_by_hour[row]\n",
    "    average_points = round((points / other_posts_count), 2)\n",
    "    other_posts_avg_points_by_hour.append([hour, average_points])\n",
    "    \n",
    "print(other_posts_avg_points_by_hour, '\\n')\n",
    "\n",
    "swap_other_posts_avg_points_by_hour = []\n",
    "\n",
    "for row in other_posts_avg_points_by_hour:\n",
    "    swap_other_posts_avg_points_by_hour.append([row[1], row[0]])\n",
    "    \n",
    "print(swap_other_posts_avg_points_by_hour, '\\n')\n",
    "\n",
    "sorted_swap_other = sorted(swap_other_posts_avg_points_by_hour, reverse = True)\n",
    "print(sorted_swap_other, '\\n')\n",
    "\n",
    "print(\"Top 5 Hours for Other Posts Points: \", '\\n')\n",
    "\n",
    "for row in sorted_swap_other[:5]:\n",
    "    average_points = row[0]\n",
    "    time = row[1]\n",
    "    time_dt = dt.datetime.strptime(time, \"%H\")\n",
    "    time_str = time_dt.strftime(\"%H:%M\")\n",
    "\n",
    "    print(time_str, ': ', average_points, ' average points per post.')"
   ]
  },
  {
   "cell_type": "markdown",
   "id": "4c1126f7",
   "metadata": {},
   "source": [
    "In our comprehensive analysis of Hacker News posts, we also examined posts that were neither labeled as \"Ask HN\" nor \"Show HN.\" Here are our key findings:\n",
    "\n",
    "- Our analysis looked at general posts on Hacker News, excluding \"Ask HN\" and \"Show HN\" posts, and found the following:\n",
    "\n",
    "- General Post Statistics:\n",
    "    - There are 17,194 of these general posts.\n",
    "    - They received a total of 462,055 comments, averaging about 27 comments per post.\n",
    "    - They also received a total of 952,664 points, averaging about 55 points per post.\n",
    "- Best times for comments:\n",
    "    - 2 PM: 32 comments on average\n",
    "    - 1 PM: 31 comments on average\n",
    "    - 12 PM: 30 comments on average\n",
    "    - 11 AM: 30 comments on average\n",
    "    - 3 PM: 30 comments on average\n",
    "- Best times for points:\n",
    "    - 1 PM: 63 points on average\n",
    "    - 2 PM: 62 points on average\n",
    "    - 3 PM: 61 points on average\n",
    "    - 10 AM: 60 points on average\n",
    "    - 7 PM: 60 points on average\n",
    "\n",
    "This analysis indicates that general posts on Hacker News receive the most engagement in terms of both comments and points when posted around midday and early afternoon."
   ]
  },
  {
   "cell_type": "markdown",
   "id": "fff8f293",
   "metadata": {},
   "source": [
    "### Comparison of \"Ask HN\", \"Show HN\", and Other Posts\n",
    "\n",
    "In our analysis of Hacker News posts, we compared three categories: \"Ask HN,\" \"Show HN,\" and other posts. Here are our summarized findings:\n",
    "\n",
    "Comments:\n",
    "- \"Ask HN\" posts generate the most comments in the afternoon, peaking at 3 PM.\n",
    "- \"Show HN\" posts receive fewer comments compared to \"Ask HN\" and other posts, with peak engagement in the morning and afternoon.\n",
    "- Other posts generally receive the highest number of comments, especially around midday (12 PM to 3 PM).\n",
    "\n",
    "Points:\n",
    "- \"Ask HN\" posts receive the most points in the afternoon, with 3 PM being the optimal time.\n",
    "- \"Show HN\" posts perform best late at night or around noon, receiving the highest points at 11 PM.\n",
    "- Other posts get the most points overall, with peak times from late morning to early afternoon (10 AM to 3 PM).\n",
    "\n",
    "Overall, our analysis indicates that while \"Ask HN\" posts are effective for generating comments, \"Show HN\" posts excel in gaining points, particularly when posted at specific times. Other posts outperform both \"Ask HN\" and \"Show HN\" posts in both comments and points, especially when posted around midday."
   ]
  },
  {
   "cell_type": "code",
   "execution_count": null,
   "id": "6319ad7b",
   "metadata": {},
   "outputs": [],
   "source": []
  }
 ],
 "metadata": {
  "kernelspec": {
   "display_name": "Python 3 (ipykernel)",
   "language": "python",
   "name": "python3"
  },
  "language_info": {
   "codemirror_mode": {
    "name": "ipython",
    "version": 3
   },
   "file_extension": ".py",
   "mimetype": "text/x-python",
   "name": "python",
   "nbconvert_exporter": "python",
   "pygments_lexer": "ipython3",
   "version": "3.11.5"
  }
 },
 "nbformat": 4,
 "nbformat_minor": 5
}
